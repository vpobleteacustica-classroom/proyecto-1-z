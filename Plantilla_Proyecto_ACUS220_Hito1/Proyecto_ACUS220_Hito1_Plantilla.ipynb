{
 "cells": [
  {
   "cell_type": "markdown",
   "id": "047d525e",
   "metadata": {},
   "source": [
    "<p align=\"center\">\n",
    "    <img src=\"figuras/escudo_uach.png\" alt=\"UACh\" width=\"200\"/>\n",
    "    </p>\n",
    "\n",
    "# Plantilla Proyecto de ACUS 220 Acústica Computacional con Python  \n",
    "\n",
    "### Primer Hito de Entrega  \n",
    "\n",
    "**Integrantes:** Martin Maza, Samantha Espinoza, Esperanza Tejeda, Rudy Richter\n"
   ]
  },
  {
   "cell_type": "markdown",
   "id": "00ce9095",
   "metadata": {},
   "source": [
    "## Objetivos del Proyecto  \n",
    "\n",
    "**Objetivo General:**  \n",
    "- Explicar aquí el propósito principal del proyecto.  \n",
    "\n",
    "**Objetivos Específicos:**  \n",
    "- OE1: Describir el primer objetivo específico.  \n",
    "- OE2: Describir el segundo objetivo específico.  \n",
    "- OE3: Describir el tercer objetivo específico (si aplica).  \n",
    "\n",
    "> *Recordar*: El objetivo general es amplio (qué se quiere lograr en conjunto), mientras que los específicos son pasos concretos y medibles para alcanzarlo.\n"
   ]
  },
  {
   "cell_type": "markdown",
   "id": "c2ba83cb",
   "metadata": {},
   "source": [
    "## Estado del Arte  \n",
    "\n",
    "En esta sección, el grupo debe presentar un resumen de lo que se ha encontrado en la literatura, plataformas o proyectos relacionados con el problema que quieren resolver.  \n",
    "\n",
    "**Ejemplo:**  \n",
    "- En Europa, el modelo CNOSSOS-EU se utiliza para predecir niveles de ruido de tráfico.  \n",
    "- En Chile, estudios recientes han mostrado la necesidad de contar con metodologías accesibles para estudiantes.  \n",
    "- Existen softwares comerciales como CadnaA o SoundPLAN, pero son costosos.  \n",
    "- En Python, librerías como `librosa`, `scipy.signal` y `pandas` pueden apoyar en el análisis acústico.  \n"
   ]
  },
  {
   "cell_type": "markdown",
   "id": "7cc17aa5",
   "metadata": {},
   "source": [
    "## Materiales y Métodos  \n",
    "\n",
    "### Materiales  \n",
    "- Listar los datos, grabaciones, sensores o librerías de Python que se usarán.  \n",
    "\n",
    "### Metodología  \n",
    "Describir paso a paso cómo se abordará el problema.  \n",
    "\n",
    "**Ejemplo plan de trabajo:**  \n",
    "\n",
    "| Actividad                        | Responsable(s)   | Fecha estimada |\n",
    "|----------------------------------|-----------------|----------------|\n",
    "| Revisión bibliográfica           | Grupo completo  | 10/10/2025     |\n",
    "| Recolección de datos en terreno  | Nombre1         | 20/10/2025     |\n",
    "| Procesamiento de datos en Python | Nombre2         | 30/10/2025     |\n",
    "| Entrenamiento del modelo         | Nombre3         | 15/11/2025     |\n",
    "| Redacción de informe parcial     | Grupo completo  | 25/11/2025     |  \n"
   ]
  },
  {
   "cell_type": "markdown",
   "id": "b1eb4b2e",
   "metadata": {},
   "source": [
    "## Referencias Bibliográficas  \n",
    "\n",
    "Ejemplos en formato APA:  \n",
    "\n",
    "- Arenas, J. P. (2020). *Noise pollution in Latin America: Challenges and perspectives*. Journal of the Acoustical Society of America, 148(3), 1234-1245.  \n",
    "- European Commission. (2015). *CNOSSOS-EU: Common Noise Assessment Methods in Europe*.  \n"
   ]
  },
  {
   "cell_type": "code",
   "execution_count": null,
   "id": "6976b888-1626-4d5a-bda1-70e82a47c291",
   "metadata": {},
   "outputs": [],
   "source": []
  }
 ],
 "metadata": {
  "kernelspec": {
   "display_name": "proyecto_1",
   "language": "python",
   "name": "proyecto_1"
  },
  "language_info": {
   "codemirror_mode": {
    "name": "ipython",
    "version": 3
   },
   "file_extension": ".py",
   "mimetype": "text/x-python",
   "name": "python",
   "nbconvert_exporter": "python",
   "pygments_lexer": "ipython3",
   "version": "3.11.13"
  }
 },
 "nbformat": 4,
 "nbformat_minor": 5
}
